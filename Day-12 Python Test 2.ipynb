{
 "cells": [
  {
   "cell_type": "code",
   "execution_count": 4,
   "id": "2fee5d82",
   "metadata": {},
   "outputs": [
    {
     "name": "stdout",
     "output_type": "stream",
     "text": [
      "[44, 77, 88]\n",
      "3\n"
     ]
    }
   ],
   "source": [
    "\n",
    "nuns=[1,1,2,2,3,3,44,66,77,66,88]\n",
    "mylist=[]\n",
    "for i in nuns:\n",
    "    if nuns.count(i)<2:\n",
    "        mylist.append(i)\n",
    "print(mylist)\n",
    "print(len(mylist))\n"
   ]
  },
  {
   "cell_type": "code",
   "execution_count": 5,
   "id": "700a0821",
   "metadata": {},
   "outputs": [
    {
     "name": "stdout",
     "output_type": "stream",
     "text": [
      "{(4, 4), (2, 4), (3, 4), (1, 5), (4, 3), (4, 6), (1, 4), (2, 3), (4, 5), (3, 3), (2, 6), (3, 6), (1, 6), (2, 5), (1, 3), (3, 5)}\n"
     ]
    },
    {
     "data": {
      "text/plain": [
       "16"
      ]
     },
     "execution_count": 5,
     "metadata": {},
     "output_type": "execute_result"
    }
   ],
   "source": [
    "\n",
    "a={1,2,3,4}\n",
    "b={3,4,5,6}\n",
    "product=set({})\n",
    "for i in a:\n",
    "    for j in b:\n",
    "        product.add((i,j))\n",
    "\n",
    "print(product)\n",
    "len(product)"
   ]
  },
  {
   "cell_type": "code",
   "execution_count": 8,
   "id": "c7e31d0a",
   "metadata": {},
   "outputs": [
    {
     "name": "stdout",
     "output_type": "stream",
     "text": [
      "34\n",
      "1\n"
     ]
    }
   ],
   "source": [
    "\n",
    "my_tuple=(1,2,34,5,8,9,10)\n",
    "maximum=0\n",
    "minimum=my_tuple[0]\n",
    "\n",
    "for x in my_tuple:\n",
    "    if x>maximum:\n",
    "        maximum=x\n",
    "    elif x<minimum:\n",
    "        minimum=x\n",
    "print(maximum)\n",
    "print(minimum)"
   ]
  },
  {
   "cell_type": "code",
   "execution_count": 11,
   "id": "86e883a8",
   "metadata": {},
   "outputs": [
    {
     "name": "stdout",
     "output_type": "stream",
     "text": [
      "6\n"
     ]
    }
   ],
   "source": [
    "\n",
    "my_list=[1,2,3,4,6,7,8,9,10]\n",
    "my_list.sort()\n",
    "n=len(my_list)\n",
    "x=(n+1)//2\n",
    "print(my_list[x-1])\n"
   ]
  },
  {
   "cell_type": "code",
   "execution_count": null,
   "id": "3f790211",
   "metadata": {},
   "outputs": [],
   "source": [
    "\n"
   ]
  }
 ],
 "metadata": {
  "kernelspec": {
   "display_name": "Python 3 (ipykernel)",
   "language": "python",
   "name": "python3"
  },
  "language_info": {
   "codemirror_mode": {
    "name": "ipython",
    "version": 3
   },
   "file_extension": ".py",
   "mimetype": "text/x-python",
   "name": "python",
   "nbconvert_exporter": "python",
   "pygments_lexer": "ipython3",
   "version": "3.10.11"
  }
 },
 "nbformat": 4,
 "nbformat_minor": 5
}
