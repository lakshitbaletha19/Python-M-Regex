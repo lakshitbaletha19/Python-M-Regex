{
 "cells": [
  {
   "cell_type": "code",
   "execution_count": 2,
   "id": "aff401c3-cb3b-421d-befe-98265fdfe560",
   "metadata": {},
   "outputs": [],
   "source": [
    "# dictonary\n",
    "# collection of element\n",
    "# comma\n",
    "# key : vakue (element)\n",
    "# key:value , key:value\n",
    "# don't have index position\n",
    "# mutable in nature\n"
   ]
  },
  {
   "cell_type": "code",
   "execution_count": 7,
   "id": "6bda4be9-0b71-4137-8039-5a6d2687fcfa",
   "metadata": {},
   "outputs": [
    {
     "name": "stdout",
     "output_type": "stream",
     "text": [
      "{1: 'lakshit', 2: 'ayush', 3: 'devesh', 'company': 'regex'}\n"
     ]
    }
   ],
   "source": [
    "my_dict={1:'lakshit',2:'ayush',3:\"devesh\",\"company\":\"regex\"}\n",
    "\n",
    "print(my_dict)\n"
   ]
  },
  {
   "cell_type": "code",
   "execution_count": 9,
   "id": "581ff35d-e878-45e9-972b-3cd18aaffd12",
   "metadata": {},
   "outputs": [
    {
     "data": {
      "text/plain": [
       "'lakshit'"
      ]
     },
     "execution_count": 9,
     "metadata": {},
     "output_type": "execute_result"
    }
   ],
   "source": [
    "my_dict={1:'lakshit',2:'ayush',3:\"devesh\",\"company\":\"regex\"}\n",
    "my_dict[1]"
   ]
  },
  {
   "cell_type": "code",
   "execution_count": 12,
   "id": "c029894a-6b8c-4e80-bcc7-dd5ed8b22ec5",
   "metadata": {},
   "outputs": [
    {
     "name": "stdout",
     "output_type": "stream",
     "text": [
      "{1: 'neeraj', 2: 'ayush', 3: 'devesh', 'company': 'regex'}\n"
     ]
    }
   ],
   "source": [
    "my_dict={1:'lakshit',2:'ayush',3:\"devesh\",\"company\":\"regex\"}\n",
    "# update\n",
    "my_dict[1]=\"neeraj\"\n",
    "print(my_dict)"
   ]
  },
  {
   "cell_type": "code",
   "execution_count": 14,
   "id": "46c58d9a-f88f-4a83-8e4f-20806297fef5",
   "metadata": {},
   "outputs": [
    {
     "name": "stdout",
     "output_type": "stream",
     "text": [
      "{1: 'lakshit', 2: 'ayush', 3: 'devesh', 'company': 'regex', 4: 'neeraj'}\n"
     ]
    }
   ],
   "source": [
    "my_dict={1:'lakshit',2:'ayush',3:\"devesh\",\"company\":\"regex\"}\n",
    "# insert\n",
    "my_dict[4]=\"neeraj\"\n",
    "print(my_dict)"
   ]
  },
  {
   "cell_type": "code",
   "execution_count": 24,
   "id": "b71d431c-3904-4a62-a828-995c2e2706cf",
   "metadata": {},
   "outputs": [
    {
     "name": "stdout",
     "output_type": "stream",
     "text": [
      "{1: 'lakshit', 2: 'ayush', 3: 'devesh', 'company': 'regex'}\n"
     ]
    },
    {
     "data": {
      "text/plain": [
       "('company', 'regex')"
      ]
     },
     "execution_count": 24,
     "metadata": {},
     "output_type": "execute_result"
    }
   ],
   "source": [
    "# delete\n",
    "my_dict={1: 'lakshit', 2: 'ayush', 3: 'devesh', 'company': 'regex', 4: 'neeraj'}\n",
    "my_dict.pop(4)\n",
    "print(my_dict)\n",
    "\n",
    "my_dict.popitem()"
   ]
  },
  {
   "cell_type": "code",
   "execution_count": 26,
   "id": "d45ad21d-22a5-4e7d-adba-30b0472f2d52",
   "metadata": {},
   "outputs": [
    {
     "data": {
      "text/plain": [
       "{1: 'lakshit', 2: 'ayush', 3: 'devesh'}"
      ]
     },
     "execution_count": 26,
     "metadata": {},
     "output_type": "execute_result"
    }
   ],
   "source": [
    "my_dict"
   ]
  },
  {
   "cell_type": "code",
   "execution_count": 28,
   "id": "7b37f92b-37b2-41f9-b636-1ca8adf246ef",
   "metadata": {},
   "outputs": [
    {
     "data": {
      "text/plain": [
       "True"
      ]
     },
     "execution_count": 28,
     "metadata": {},
     "output_type": "execute_result"
    }
   ],
   "source": [
    "1 in my_dict"
   ]
  },
  {
   "cell_type": "code",
   "execution_count": 30,
   "id": "f161cb39-e5d8-42b6-803f-47e90467fce0",
   "metadata": {},
   "outputs": [
    {
     "data": {
      "text/plain": [
       "dict_values(['lakshit', 'ayush', 'devesh'])"
      ]
     },
     "execution_count": 30,
     "metadata": {},
     "output_type": "execute_result"
    }
   ],
   "source": [
    "my_dict.values()"
   ]
  },
  {
   "cell_type": "code",
   "execution_count": 32,
   "id": "4db8c9c8-cf31-4687-bb76-b8f4b7ffe4eb",
   "metadata": {},
   "outputs": [
    {
     "data": {
      "text/plain": [
       "dict_items([(1, 'lakshit'), (2, 'ayush'), (3, 'devesh')])"
      ]
     },
     "execution_count": 32,
     "metadata": {},
     "output_type": "execute_result"
    }
   ],
   "source": [
    "my_dict.items()"
   ]
  },
  {
   "cell_type": "code",
   "execution_count": 33,
   "id": "f5bdb020-8fb9-40e3-969f-dfb3f04c2a04",
   "metadata": {},
   "outputs": [
    {
     "data": {
      "text/plain": [
       "dict_keys([1, 2, 3])"
      ]
     },
     "execution_count": 33,
     "metadata": {},
     "output_type": "execute_result"
    }
   ],
   "source": [
    "my_dict.keys()"
   ]
  },
  {
   "cell_type": "code",
   "execution_count": 39,
   "id": "abc3561e-f469-4b8c-a424-596e3b26aa17",
   "metadata": {},
   "outputs": [
    {
     "name": "stdout",
     "output_type": "stream",
     "text": [
      "{1: 'lakshit', 2: 'ayush', 3: 'devesh', 100: 1, 200: 1}\n"
     ]
    }
   ],
   "source": [
    "x=200\n",
    "\n",
    "if(x not in my_dict):\n",
    "    my_dict[x]=1\n",
    "print(my_dict)"
   ]
  },
  {
   "cell_type": "code",
   "execution_count": 58,
   "id": "f0014f75-2f68-423e-9630-51e2794dd6d1",
   "metadata": {},
   "outputs": [
    {
     "name": "stdout",
     "output_type": "stream",
     "text": [
      "{'totalchar': 13}\n"
     ]
    }
   ],
   "source": [
    "# using dictonary how many character are present\n",
    "newdict={}\n",
    "for i in \"hello lakshit\":\n",
    "    if(\"totalchar\" not in newdict):\n",
    "        newdict[\"totalchar\"]=1\n",
    "    else:\n",
    "        newdict[\"totalchar\"] = newdict[\"totalchar\"]+1\n",
    "print(newdict)"
   ]
  },
  {
   "cell_type": "code",
   "execution_count": 69,
   "id": "70a295a4-40e9-446e-a584-ead6738a77a4",
   "metadata": {},
   "outputs": [
    {
     "name": "stdout",
     "output_type": "stream",
     "text": [
      "{'h': 2, 'e': 1, 'l': 3, 'o': 1, ' ': 1, 'a': 1, 'k': 1, 's': 1, 'i': 1, 't': 1}\n"
     ]
    }
   ],
   "source": [
    "# a particular character is available in particular time\n",
    "newdict={}\n",
    "for i in \"hello lakshit\":\n",
    "    key = newdict.keys()\n",
    "    if(i in key):\n",
    "        newdict[i] = newdict[i]+1\n",
    "    else:\n",
    "        newdict[i]=1\n",
    "print(newdict)"
   ]
  },
  {
   "cell_type": "code",
   "execution_count": 75,
   "id": "c3cfe27a-56a2-4a5c-a819-28a8eb9e9e8a",
   "metadata": {},
   "outputs": [
    {
     "name": "stdout",
     "output_type": "stream",
     "text": [
      "{'h': 2, 'e': 1, 'l': 3, 'o': 1, ' ': 1, 'a': 1, 'k': 1, 's': 1, 'i': 1, 't': 1}\n"
     ]
    }
   ],
   "source": [
    "newdict={}\n",
    "for i in \"hello lakshit\":\n",
    "    if(i not in newdict):\n",
    "        newdict[i]=1\n",
    "    else:\n",
    "        newdict[i] = newdict[i]+1\n",
    "print(newdict)"
   ]
  },
  {
   "cell_type": "code",
   "execution_count": 81,
   "id": "aeecf9e9-0780-4973-b61b-790ee83924b0",
   "metadata": {},
   "outputs": [
    {
     "name": "stdout",
     "output_type": "stream",
     "text": [
      "{'e': 1, 'o': 1, 'a': 2, 'i': 3}\n"
     ]
    }
   ],
   "source": [
    "newdict={}\n",
    "for i in \"hello laakshit ii\":\n",
    "    if(i==\"a\" or i==\"e\" or i==\"i\" or i==\"o\" or i==\"u\"):\n",
    "        if(i not in newdict):\n",
    "            newdict[i]=1\n",
    "        else:\n",
    "            newdict[i] = newdict[i]+1\n",
    "print(newdict)"
   ]
  },
  {
   "cell_type": "code",
   "execution_count": null,
   "id": "d6b0a532-3130-4dbf-9804-3c9f6f566223",
   "metadata": {},
   "outputs": [],
   "source": []
  }
 ],
 "metadata": {
  "kernelspec": {
   "display_name": "Python 3 (ipykernel)",
   "language": "python",
   "name": "python3"
  },
  "language_info": {
   "codemirror_mode": {
    "name": "ipython",
    "version": 3
   },
   "file_extension": ".py",
   "mimetype": "text/x-python",
   "name": "python",
   "nbconvert_exporter": "python",
   "pygments_lexer": "ipython3",
   "version": "3.10.11"
  }
 },
 "nbformat": 4,
 "nbformat_minor": 5
}
