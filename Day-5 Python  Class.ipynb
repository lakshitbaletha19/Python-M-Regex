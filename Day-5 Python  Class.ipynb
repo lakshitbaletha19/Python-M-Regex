{
 "cells": [
  {
   "cell_type": "code",
   "execution_count": 4,
   "id": "6c418e5a-362b-4321-8c37-bcfeb73573ba",
   "metadata": {},
   "outputs": [
    {
     "name": "stdout",
     "output_type": "stream",
     "text": [
      "1\n",
      "2\n",
      "3\n",
      "4\n",
      "5\n",
      "6\n",
      "7\n",
      "8\n",
      "9\n"
     ]
    }
   ],
   "source": [
    "# while loop \n",
    "i=1\n",
    "while(i<10):\n",
    "    print(i)\n",
    "    i=i+1"
   ]
  },
  {
   "cell_type": "code",
   "execution_count": 6,
   "id": "b04166b2-5b9f-4f14-9ddb-e42ee8d7ee69",
   "metadata": {},
   "outputs": [
    {
     "name": "stdout",
     "output_type": "stream",
     "text": [
      "0 r\n",
      "1 e\n",
      "2 g\n",
      "3 e\n",
      "4 x\n"
     ]
    }
   ],
   "source": [
    "company=\"regex\"\n",
    "\n",
    "index=0\n",
    "while(index < len(company)):\n",
    "    print(index, company[index])\n",
    "    index+=1\n",
    "    "
   ]
  },
  {
   "cell_type": "code",
   "execution_count": 8,
   "id": "ae3c81b2-4ae2-4c67-b93a-2a6d72fc4243",
   "metadata": {},
   "outputs": [
    {
     "name": "stdout",
     "output_type": "stream",
     "text": [
      "1\n",
      "2\n"
     ]
    }
   ],
   "source": [
    "# for loop \n",
    "# using for  \n",
    "for i in range(1,5):\n",
    "    if(i==3):\n",
    "        break\n",
    "    print(i)"
   ]
  },
  {
   "cell_type": "code",
   "execution_count": 16,
   "id": "378122de-0384-4cf1-a946-4d498e84d46f",
   "metadata": {},
   "outputs": [
    {
     "name": "stdout",
     "output_type": "stream",
     "text": [
      "1085\n"
     ]
    }
   ],
   "source": [
    "i=50\n",
    "sum=0\n",
    "while(i>=20):\n",
    "    sum=sum+i\n",
    "    i=i-1\n",
    "print(sum)"
   ]
  },
  {
   "cell_type": "code",
   "execution_count": 23,
   "id": "ffd536ca-1ca9-4742-9ab1-ce0e105575f2",
   "metadata": {},
   "outputs": [
    {
     "name": "stdout",
     "output_type": "stream",
     "text": [
      "70\n",
      "105\n",
      "140\n",
      "175\n",
      "210\n",
      "245\n",
      "280\n",
      "315\n",
      "350\n",
      "385\n"
     ]
    }
   ],
   "source": [
    "'''\n",
    "METHOD 1 \n",
    "'''\n",
    "i=50\n",
    "count=1\n",
    "while(count<=10):\n",
    "    if(i%5==0 and i%7==0):\n",
    "        print(i)\n",
    "        count+=1\n",
    "    i+=1\n"
   ]
  },
  {
   "cell_type": "code",
   "execution_count": 26,
   "id": "c639a737-8caf-4cbf-bccb-57a5ff1403cf",
   "metadata": {},
   "outputs": [
    {
     "name": "stdout",
     "output_type": "stream",
     "text": [
      "70\n",
      "105\n",
      "140\n",
      "175\n",
      "210\n",
      "245\n",
      "280\n",
      "315\n",
      "350\n",
      "385\n",
      "10\n"
     ]
    }
   ],
   "source": [
    "'''\n",
    "METHOD 2\n",
    "'''\n",
    "i=50\n",
    "count=0\n",
    "while(True):\n",
    "    if(i%5==0 and i%7==0):\n",
    "        count+=1\n",
    "        print(i)\n",
    "    if(count==10):\n",
    "        break\n",
    "    i+=1\n",
    "print(count)\n"
   ]
  },
  {
   "cell_type": "code",
   "execution_count": 28,
   "id": "9927ed7a-2f53-4d4c-aa58-19bd2cc3e53f",
   "metadata": {},
   "outputs": [],
   "source": [
    "# nested loop"
   ]
  },
  {
   "cell_type": "code",
   "execution_count": 32,
   "id": "c74cad92-0387-4a14-8831-5399731dc187",
   "metadata": {},
   "outputs": [
    {
     "name": "stdout",
     "output_type": "stream",
     "text": [
      "hello\n",
      "1\n",
      "2\n",
      "3\n",
      "hello\n",
      "1\n",
      "2\n",
      "3\n",
      "hello\n",
      "1\n",
      "2\n",
      "3\n",
      "hello\n",
      "1\n",
      "2\n",
      "3\n",
      "hello\n",
      "1\n",
      "2\n",
      "3\n"
     ]
    }
   ],
   "source": [
    "for i in range(1,6):\n",
    "    print(\"hello\")\n",
    "\n",
    "    for k in range(1,4):\n",
    "        print(k)"
   ]
  },
  {
   "cell_type": "code",
   "execution_count": 36,
   "id": "f67c6c30-3f62-4d51-a71e-c0eae2c6ee76",
   "metadata": {},
   "outputs": [
    {
     "name": "stdout",
     "output_type": "stream",
     "text": [
      "1\n",
      "2\n",
      "3\n",
      "\n",
      "1\n",
      "2\n",
      "3\n",
      "\n",
      "1\n",
      "2\n",
      "3\n",
      "\n",
      "1\n",
      "2\n",
      "3\n",
      "\n",
      "1\n",
      "2\n",
      "3\n",
      "\n"
     ]
    }
   ],
   "source": [
    "for i in range(1,6):\n",
    "    for k in range(1,4):\n",
    "        print(k)\n",
    "    print(\"\")"
   ]
  },
  {
   "cell_type": "code",
   "execution_count": 38,
   "id": "1a4989d0-0f2c-446c-8c73-a166b52928f6",
   "metadata": {},
   "outputs": [
    {
     "name": "stdout",
     "output_type": "stream",
     "text": [
      "1 2 3 \n",
      "1 2 3 \n",
      "1 2 3 \n",
      "1 2 3 \n",
      "1 2 3 \n"
     ]
    }
   ],
   "source": [
    "for i in range(1,6):\n",
    "    for k in range(1,4):\n",
    "        print(k, end=\" \")\n",
    "    print(\"\")"
   ]
  },
  {
   "cell_type": "code",
   "execution_count": 39,
   "id": "d91e7170-e3df-451b-b926-fdddb517f26c",
   "metadata": {},
   "outputs": [],
   "source": [
    "# PATTERN PRINTING"
   ]
  },
  {
   "cell_type": "code",
   "execution_count": 55,
   "id": "424e7e2d-ad0b-46e0-b949-c120ef6de90d",
   "metadata": {},
   "outputs": [
    {
     "name": "stdout",
     "output_type": "stream",
     "text": [
      "* * * * *  \n",
      "* * * * *  \n",
      "* * * * *  \n",
      "* * * * *  \n",
      "* * * * *  \n"
     ]
    }
   ],
   "source": [
    "for i in range(0,5):\n",
    "    for j in range(0,5,):\n",
    "        print(\"*\",end=\" \")\n",
    "    print(\" \")\n",
    "    "
   ]
  },
  {
   "cell_type": "code",
   "execution_count": 57,
   "id": "c11010e6-8816-4788-a9e1-8a50847e1143",
   "metadata": {},
   "outputs": [
    {
     "name": "stdout",
     "output_type": "stream",
     "text": [
      "\n",
      "* \n",
      "* * \n",
      "* * * \n",
      "* * * * \n"
     ]
    }
   ],
   "source": [
    "for i in range(0,5):\n",
    "    for j in range(0,i):\n",
    "        print(\"*\",end=\" \")\n",
    "    print(\"\")    "
   ]
  },
  {
   "cell_type": "code",
   "execution_count": 58,
   "id": "8253f1b3-f8a5-4fbc-8962-f9d03e109b1c",
   "metadata": {},
   "outputs": [
    {
     "name": "stdout",
     "output_type": "stream",
     "text": [
      "* * * \n",
      "* * \n",
      "* \n",
      "\n",
      "\n"
     ]
    }
   ],
   "source": [
    "for i in range(0,5):\n",
    "    for j in range(0,j):\n",
    "        print(\"*\",end=\" \")\n",
    "    print(\"\")   "
   ]
  }
 ],
 "metadata": {
  "kernelspec": {
   "display_name": "Python 3 (ipykernel)",
   "language": "python",
   "name": "python3"
  },
  "language_info": {
   "codemirror_mode": {
    "name": "ipython",
    "version": 3
   },
   "file_extension": ".py",
   "mimetype": "text/x-python",
   "name": "python",
   "nbconvert_exporter": "python",
   "pygments_lexer": "ipython3",
   "version": "3.10.11"
  }
 },
 "nbformat": 4,
 "nbformat_minor": 5
}
