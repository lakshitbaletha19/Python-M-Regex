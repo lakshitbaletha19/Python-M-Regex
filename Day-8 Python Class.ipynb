{
 "cells": [
  {
   "cell_type": "code",
   "execution_count": 7,
   "id": "e1ffccaa-ff47-4e81-bfb8-794807d8f7b1",
   "metadata": {},
   "outputs": [
    {
     "data": {
      "text/plain": [
       "['hey', 'my', 'self', 'lakshit', 'ayush', 'and', 'devesh', 'friends']"
      ]
     },
     "execution_count": 7,
     "metadata": {},
     "output_type": "execute_result"
    }
   ],
   "source": [
    "data=\"hey my self lakshit ayush and devesh my friends\"\n",
    "\n",
    "mylist=data.split()\n",
    "newlist=[]\n",
    "for i in mylist:\n",
    "    if (i not in newlist):\n",
    "        newlist.append(i)\n",
    "newlist"
   ]
  },
  {
   "cell_type": "code",
   "execution_count": 8,
   "id": "35064b54-5fd6-453e-8077-019cd902cfe8",
   "metadata": {},
   "outputs": [],
   "source": [
    "# Tuples\n",
    "# -It is a collection of multiple element\n",
    "# immutable\n",
    "# index position \n"
   ]
  },
  {
   "cell_type": "code",
   "execution_count": 10,
   "id": "764b8a2b-c1c7-4199-b602-6cafaf088269",
   "metadata": {},
   "outputs": [
    {
     "name": "stdout",
     "output_type": "stream",
     "text": [
      "<class 'tuple'>\n"
     ]
    }
   ],
   "source": [
    "mytuple=(10,20)\n",
    "print(type(mytuple))"
   ]
  },
  {
   "cell_type": "code",
   "execution_count": 16,
   "id": "dd993843-2a37-4e7c-bc39-13dc7eacd00c",
   "metadata": {},
   "outputs": [
    {
     "name": "stdout",
     "output_type": "stream",
     "text": [
      "<class 'tuple'>\n"
     ]
    }
   ],
   "source": [
    "mytuple=(10,\"lakshit\",\"hey\")\n",
    "print(type(mytuple))"
   ]
  },
  {
   "cell_type": "code",
   "execution_count": 22,
   "id": "2673e1a7-8c56-4241-8805-1899a27c325d",
   "metadata": {},
   "outputs": [
    {
     "data": {
      "text/plain": [
       "(10, 'lakshit', 'hey')"
      ]
     },
     "execution_count": 22,
     "metadata": {},
     "output_type": "execute_result"
    }
   ],
   "source": [
    "mytuple[0:3]\n"
   ]
  },
  {
   "cell_type": "code",
   "execution_count": 26,
   "id": "e8b8dbb8-0848-4f26-9574-c62495b7bc26",
   "metadata": {},
   "outputs": [
    {
     "data": {
      "text/plain": [
       "1"
      ]
     },
     "execution_count": 26,
     "metadata": {},
     "output_type": "execute_result"
    }
   ],
   "source": [
    "mytuple.index(\"lakshit\")"
   ]
  },
  {
   "cell_type": "code",
   "execution_count": 29,
   "id": "e47bc1fc-b5c5-4639-9eae-d7e52b4bc65f",
   "metadata": {},
   "outputs": [
    {
     "data": {
      "text/plain": [
       "(10, 'lakshit', 'hey', 90, 66, 77)"
      ]
     },
     "execution_count": 29,
     "metadata": {},
     "output_type": "execute_result"
    }
   ],
   "source": [
    "mytuple+(90,66,77)\n"
   ]
  },
  {
   "cell_type": "code",
   "execution_count": 30,
   "id": "ff068299-c36f-40ee-b46e-24ad3a1632c8",
   "metadata": {},
   "outputs": [
    {
     "data": {
      "text/plain": [
       "2201219063808"
      ]
     },
     "execution_count": 30,
     "metadata": {},
     "output_type": "execute_result"
    }
   ],
   "source": [
    "id(mytuple)"
   ]
  },
  {
   "cell_type": "code",
   "execution_count": 47,
   "id": "af3b8fd1-863b-4c05-8a06-9285bfc51a05",
   "metadata": {},
   "outputs": [
    {
     "name": "stdout",
     "output_type": "stream",
     "text": [
      "3\n",
      "5\n",
      "1\n",
      "153 0\n"
     ]
    }
   ],
   "source": [
    "x=153   \n",
    "rem1=x%10\n",
    "x=x//10\n",
    "print(rem1)\n",
    "rem2=x%10\n",
    "x=x//10\n",
    "print(rem2)\n",
    "rem3=x%10\n",
    "x=x//10\n",
    "print(rem3)\n",
    "rem1=rem1**3\n",
    "rem2=rem2**3\n",
    "rem3=rem3**3\n",
    "print(rem1+rem2+rem3,x)"
   ]
  },
  {
   "cell_type": "code",
   "execution_count": 55,
   "id": "93e2be18-6a19-48ac-b136-416f0a8ac2f1",
   "metadata": {},
   "outputs": [
    {
     "name": "stdout",
     "output_type": "stream",
     "text": [
      "not\n",
      "not\n",
      "amstrong\n"
     ]
    }
   ],
   "source": [
    "x=153\n",
    "y=x\n",
    "total=0\n",
    "while(x>0):\n",
    "    rem=x%10\n",
    "    total=total+rem**3\n",
    "    x=x//10\n",
    "    if(total==y):\n",
    "        print(\"amstrong\")\n",
    "    else:\n",
    "        print(\"not\")\n",
    "    "
   ]
  },
  {
   "cell_type": "code",
   "execution_count": null,
   "id": "e45ef9c7-5a69-4dd9-98a3-ee51a012a2c3",
   "metadata": {},
   "outputs": [],
   "source": [
    "                                # ASSIGNMENT\n",
    "# to find out whether a 4-digit number is a amstrong\n",
    "# to find all unique word from a string no duplicacy\n",
    "        ''' [hey lakshit user lakshit lakshit] '''"
   ]
  }
 ],
 "metadata": {
  "kernelspec": {
   "display_name": "Python 3 (ipykernel)",
   "language": "python",
   "name": "python3"
  },
  "language_info": {
   "codemirror_mode": {
    "name": "ipython",
    "version": 3
   },
   "file_extension": ".py",
   "mimetype": "text/x-python",
   "name": "python",
   "nbconvert_exporter": "python",
   "pygments_lexer": "ipython3",
   "version": "3.10.11"
  }
 },
 "nbformat": 4,
 "nbformat_minor": 5
}
