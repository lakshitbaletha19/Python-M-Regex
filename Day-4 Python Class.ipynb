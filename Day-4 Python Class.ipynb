{
 "cells": [
  {
   "cell_type": "code",
   "execution_count": 6,
   "id": "f16d55a7-79a6-4b90-b458-49b0d6101b3e",
   "metadata": {},
   "outputs": [
    {
     "name": "stdout",
     "output_type": "stream",
     "text": [
      "eligible for voting\n",
      "you can vote now\n"
     ]
    }
   ],
   "source": [
    "# nested if else\n",
    "age=18\n",
    "city=\"jaipur\"\n",
    "if(age>=18):\n",
    "    print(\"eligible for voting\")\n",
    "    if(city==\"jaipur\"):\n",
    "        print(\"you can vote now\")\n",
    "    else:\n",
    "        print(\"you not vote in city\")\n"
   ]
  },
  {
   "cell_type": "code",
   "execution_count": 7,
   "id": "d00085ad-d714-497e-a566-31d996485fd7",
   "metadata": {},
   "outputs": [
    {
     "name": "stdout",
     "output_type": "stream",
     "text": [
      "0\n",
      "1\n",
      "2\n",
      "3\n",
      "4\n"
     ]
    }
   ],
   "source": [
    "# looping statement\n",
    "\n",
    "for i in range(0,5):\n",
    "    print(i)"
   ]
  },
  {
   "cell_type": "code",
   "execution_count": 11,
   "id": "18ddfec8-1870-4822-af3f-c216ea26f314",
   "metadata": {},
   "outputs": [
    {
     "name": "stdout",
     "output_type": "stream",
     "text": [
      "0\n",
      "3\n",
      "6\n",
      "9\n",
      "12\n",
      "15\n",
      "18\n",
      "21\n",
      "24\n",
      "27\n",
      "30\n",
      "33\n",
      "36\n",
      "39\n",
      "42\n",
      "45\n",
      "48\n",
      "51\n",
      "54\n",
      "57\n"
     ]
    }
   ],
   "source": [
    "\n",
    "for count in range(0,60):\n",
    "    if(count%3==0):\n",
    "        print(count)"
   ]
  },
  {
   "cell_type": "code",
   "execution_count": 22,
   "id": "829f3ec8-72f7-412b-af37-13d87878dd37",
   "metadata": {},
   "outputs": [
    {
     "name": "stdout",
     "output_type": "stream",
     "text": [
      "90\n",
      "75\n",
      "60\n",
      "45\n",
      "30\n",
      "15\n",
      "0\n"
     ]
    }
   ],
   "source": [
    "for count in range(100,-1,-1):\n",
    "    if(count%5==0 and count%15==0):\n",
    "        print(count)"
   ]
  },
  {
   "cell_type": "code",
   "execution_count": 37,
   "id": "43ab2349-ee7b-46c2-8e10-b73a43d35366",
   "metadata": {},
   "outputs": [
    {
     "name": "stdout",
     "output_type": "stream",
     "text": [
      "55\n"
     ]
    }
   ],
   "source": [
    "sum=0\n",
    "for i in range(1,11):\n",
    "    sum=sum+i\n",
    "print(sum)"
   ]
  },
  {
   "cell_type": "code",
   "execution_count": 53,
   "id": "d9dc913c-52d5-46e6-a3f2-bf6f8f2cd611",
   "metadata": {},
   "outputs": [
    {
     "name": "stdout",
     "output_type": "stream",
     "text": [
      "240\n"
     ]
    }
   ],
   "source": [
    "sum=0\n",
    "for i in range(1,31):\n",
    "    if(i%2==0):\n",
    "        sum=sum+i\n",
    "print(sum)"
   ]
  },
  {
   "cell_type": "code",
   "execution_count": 58,
   "id": "75646598-d844-4efb-b6c9-c40128ca6055",
   "metadata": {},
   "outputs": [
    {
     "name": "stdout",
     "output_type": "stream",
     "text": [
      "40320\n"
     ]
    }
   ],
   "source": [
    "# product of all the numbers from 8 to 1\n",
    "# 8*7*6*5*4*3*2*1\n",
    "#factorial\n",
    "sum=1\n",
    "for i in range(8,0,-1):\n",
    "    sum=sum*i\n",
    "print(sum)\n",
    "    "
   ]
  },
  {
   "cell_type": "code",
   "execution_count": 59,
   "id": "22009c6d-bad2-409e-8591-43fd3ffba8fe",
   "metadata": {},
   "outputs": [
    {
     "name": "stdout",
     "output_type": "stream",
     "text": [
      "j\n",
      "a\n",
      "i\n",
      "p\n",
      "u\n",
      "r\n"
     ]
    }
   ],
   "source": [
    "data =\"jaipur\"\n",
    "\n",
    "for x in data:\n",
    "    print(x)"
   ]
  },
  {
   "cell_type": "code",
   "execution_count": 61,
   "id": "4eae5375-d5b0-49a9-9355-3f3bb5467e10",
   "metadata": {},
   "outputs": [
    {
     "data": {
      "text/plain": [
       "6"
      ]
     },
     "execution_count": 61,
     "metadata": {},
     "output_type": "execute_result"
    }
   ],
   "source": [
    "len(\"jaipur\")\n"
   ]
  },
  {
   "cell_type": "code",
   "execution_count": 63,
   "id": "b9c7ebe5-1d9f-4f2d-9c86-b0764fed42a2",
   "metadata": {},
   "outputs": [
    {
     "name": "stdout",
     "output_type": "stream",
     "text": [
      "0 j\n",
      "1 a\n",
      "2 i\n",
      "3 p\n",
      "4 u\n",
      "5 r\n"
     ]
    }
   ],
   "source": [
    "city=\"jaipur\"\n",
    "\n",
    "for index in range(0, len(city)):\n",
    "    print(index, city[index])"
   ]
  },
  {
   "cell_type": "code",
   "execution_count": 77,
   "id": "b4a70462-c512-4ce5-bd23-319c466abb46",
   "metadata": {},
   "outputs": [
    {
     "name": "stdout",
     "output_type": "stream",
     "text": [
      "Count of a: 2\n"
     ]
    }
   ],
   "source": [
    "city=\"jaipuria\"\n",
    "\n",
    "for index in range(0,len(city)):\n",
    "    c = city.count('a')\n",
    "print('Count of a:', c)"
   ]
  },
  {
   "cell_type": "code",
   "execution_count": 90,
   "id": "34b9b4de-c75a-4a1c-a712-48385059c630",
   "metadata": {},
   "outputs": [
    {
     "name": "stdout",
     "output_type": "stream",
     "text": [
      "Count of a: 2\n",
      "Count of e: 0\n",
      "Count of i: 2\n",
      "Count of o: 0\n",
      "Count of u: 1\n"
     ]
    }
   ],
   "source": [
    "city=\"jaipuria\"\n",
    "\n",
    "for index in range(0,len(city)):\n",
    "    c = city.count('a')\n",
    "    print('Count of a:', c)\n",
    "    c = city.count('e')\n",
    "    print('Count of e:', c)\n",
    "    c = city.count('i')\n",
    "    print('Count of i:', c)\n",
    "    c = city.count('o')\n",
    "    print('Count of o:', c)\n",
    "    c = city.count('u')\n",
    "    print('Count of u:', c)\n",
    "    break"
   ]
  }
 ],
 "metadata": {
  "kernelspec": {
   "display_name": "Python 3 (ipykernel)",
   "language": "python",
   "name": "python3"
  },
  "language_info": {
   "codemirror_mode": {
    "name": "ipython",
    "version": 3
   },
   "file_extension": ".py",
   "mimetype": "text/x-python",
   "name": "python",
   "nbconvert_exporter": "python",
   "pygments_lexer": "ipython3",
   "version": "3.10.11"
  }
 },
 "nbformat": 4,
 "nbformat_minor": 5
}
