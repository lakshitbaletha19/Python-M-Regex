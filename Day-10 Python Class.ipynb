{
 "cells": [
  {
   "cell_type": "code",
   "execution_count": 3,
   "id": "42ac92f5-7b71-4f27-bf31-d460138caaac",
   "metadata": {},
   "outputs": [
    {
     "name": "stdout",
     "output_type": "stream",
     "text": [
      "{(800, 'neeraj'), 42, 45, 'devesh', 665, 21, 'ayush', 89, 'lakshit'}\n"
     ]
    }
   ],
   "source": [
    "myset={21,42,45,665,89,\"lakshit\",\"ayush\",\"devesh\"}\n",
    "myset.update([(800,\"neeraj\")])\n",
    "print(myset)\n"
   ]
  },
  {
   "cell_type": "code",
   "execution_count": 6,
   "id": "004e58db-030d-47c8-83f2-f4b3c092688e",
   "metadata": {},
   "outputs": [
    {
     "data": {
      "text/plain": [
       "{(800, 'neeraj'), 21, 42, 665, 89, 'ayush', 'devesh', 'lakshit'}"
      ]
     },
     "execution_count": 6,
     "metadata": {},
     "output_type": "execute_result"
    }
   ],
   "source": [
    "myset.discard(45)\n",
    "myset"
   ]
  },
  {
   "cell_type": "code",
   "execution_count": 7,
   "id": "86b4d7d8-d88e-44d5-95ff-8fbedd1d6698",
   "metadata": {},
   "outputs": [
    {
     "data": {
      "text/plain": [
       "(800, 'neeraj')"
      ]
     },
     "execution_count": 7,
     "metadata": {},
     "output_type": "execute_result"
    }
   ],
   "source": [
    "myset.pop()"
   ]
  },
  {
   "cell_type": "code",
   "execution_count": 8,
   "id": "38a20d84-538b-4600-a216-e7f600be71b7",
   "metadata": {},
   "outputs": [
    {
     "data": {
      "text/plain": [
       "{10, 20, 30, 40, 50}"
      ]
     },
     "execution_count": 8,
     "metadata": {},
     "output_type": "execute_result"
    }
   ],
   "source": [
    "myset1={10,20,30}\n",
    "myset2={30,40,50}\n",
    "myset1.union(myset2)"
   ]
  },
  {
   "cell_type": "code",
   "execution_count": 22,
   "id": "0bac2a22-3f6f-4190-b55d-fbbf0e088f4a",
   "metadata": {},
   "outputs": [
    {
     "name": "stdout",
     "output_type": "stream",
     "text": [
      "{'hey', 'this', 'side', 'devesh', 'ayush', 'lakshit'}\n"
     ]
    }
   ],
   "source": [
    "# \"hey this side lakshit hey hey ayush hey devesh\"\n",
    "# using set (this tushar side)\n",
    "string=\"hey this side lakshit hey hey ayush hey devesh\"\n",
    "mylist=[]\n",
    "myset=set({})\n",
    "for i in string.split():\n",
    "    mylist.append(i)\n",
    "    for j in mylist:\n",
    "        myset.add(j)\n",
    "print(myset)"
   ]
  },
  {
   "cell_type": "code",
   "execution_count": 42,
   "id": "73204d16-9fcc-416a-b4a5-d6a2b762600a",
   "metadata": {},
   "outputs": [
    {
     "name": "stdin",
     "output_type": "stream",
     "text": [
      "enter the number 4\n"
     ]
    },
    {
     "name": "stdout",
     "output_type": "stream",
     "text": [
      "1 2 3 4 5 6 7 \n",
      "2 3 4 5 6 7 \n",
      "3 4 5 6 7 \n",
      "4 5 6 7 \n",
      "5 6 7 \n",
      "6 7 \n",
      "7 \n"
     ]
    }
   ],
   "source": [
    "x=int(input(\"enter the number\"))\n",
    "for i in range(1,8):\n",
    "    print(i,end=\" \")\n",
    "    for j in range(i+1,8):\n",
    "        print(j,end=\" \")\n",
    "    print()\n",
    "        "
   ]
  },
  {
   "cell_type": "code",
   "execution_count": 58,
   "id": "affbbc6e-1b88-4c24-ad74-5720b0ee71d8",
   "metadata": {},
   "outputs": [
    {
     "name": "stdin",
     "output_type": "stream",
     "text": [
      "enter the value 7\n"
     ]
    },
    {
     "name": "stdout",
     "output_type": "stream",
     "text": [
      "1 \n",
      "\n",
      "\n",
      "\n",
      "\n",
      "\n"
     ]
    }
   ],
   "source": [
    "x=int(input(\"enter the value\"))\n",
    "for i in range(0,x):\n",
    "    for j in range"
   ]
  },
  {
   "cell_type": "code",
   "execution_count": null,
   "id": "7f18f942-2105-48b1-a660-6383a5c6371a",
   "metadata": {},
   "outputs": [],
   "source": [
    "# input= [] {}  => brackets are correct\n",
    "# input= {[] ()}=> brackets are correct\n"
   ]
  }
 ],
 "metadata": {
  "kernelspec": {
   "display_name": "Python 3 (ipykernel)",
   "language": "python",
   "name": "python3"
  },
  "language_info": {
   "codemirror_mode": {
    "name": "ipython",
    "version": 3
   },
   "file_extension": ".py",
   "mimetype": "text/x-python",
   "name": "python",
   "nbconvert_exporter": "python",
   "pygments_lexer": "ipython3",
   "version": "3.10.11"
  }
 },
 "nbformat": 4,
 "nbformat_minor": 5
}
