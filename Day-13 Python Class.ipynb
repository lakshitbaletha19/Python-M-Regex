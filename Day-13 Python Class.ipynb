{
 "cells": [
  {
   "cell_type": "code",
   "execution_count": 5,
   "id": "e5ec88ba-3068-41f4-873b-4ccda1ca9839",
   "metadata": {},
   "outputs": [
    {
     "name": "stdout",
     "output_type": "stream",
     "text": [
      "hello\n",
      "hello\n"
     ]
    }
   ],
   "source": [
    "# function\n",
    "# block of code\n",
    "def func():\n",
    "    print(\"hello\")\n",
    "# function call\n",
    "func()\n",
    "func()"
   ]
  },
  {
   "cell_type": "code",
   "execution_count": 8,
   "id": "e8443437-a4a9-48f7-b872-765a9a21b08b",
   "metadata": {},
   "outputs": [
    {
     "name": "stdout",
     "output_type": "stream",
     "text": [
      "hello lakshit\n",
      "hello ayush\n"
     ]
    }
   ],
   "source": [
    "# parameter\n",
    "\n",
    "def func(x):\n",
    "    print(\"hello\",x)\n",
    "func(\"lakshit\")\n",
    "func(\"ayush\")"
   ]
  },
  {
   "cell_type": "code",
   "execution_count": 10,
   "id": "edc0068e-45ca-4b7d-90c2-b8045dea2dd3",
   "metadata": {},
   "outputs": [
    {
     "name": "stdout",
     "output_type": "stream",
     "text": [
      "30\n"
     ]
    }
   ],
   "source": [
    "def func(x,y):\n",
    "    print(x+y)\n",
    "func(10,20)"
   ]
  },
  {
   "cell_type": "code",
   "execution_count": 11,
   "id": "6684137d-202d-45e4-a2a1-59036df7914b",
   "metadata": {},
   "outputs": [
    {
     "name": "stdout",
     "output_type": "stream",
     "text": [
      "out 30\n"
     ]
    }
   ],
   "source": [
    "def func(x,y):\n",
    "    return x+y\n",
    "\n",
    "out=func(10,20)\n",
    "print(\"out\",out)\n"
   ]
  },
  {
   "cell_type": "code",
   "execution_count": 20,
   "id": "392af9c2-e2c7-4125-9d3f-e09fc84e8549",
   "metadata": {},
   "outputs": [
    {
     "name": "stdout",
     "output_type": "stream",
     "text": [
      "20\n",
      "10\n"
     ]
    }
   ],
   "source": [
    "def func(x):\n",
    "    print(x+10)\n",
    "x=10\n",
    "func(10)\n",
    "print(x)"
   ]
  },
  {
   "cell_type": "code",
   "execution_count": 27,
   "id": "cde658b6-53d6-4d46-85cd-b5643d42f0c0",
   "metadata": {},
   "outputs": [
    {
     "name": "stdout",
     "output_type": "stream",
     "text": [
      "list memory 2075820464000\n",
      "['lakshit', 2, 3, 4] 2075820464000\n",
      "value of list ['lakshit', 2, 3, 4]\n"
     ]
    }
   ],
   "source": [
    "def func(x):\n",
    "    x[0]=\"lakshit\"\n",
    "    print(x,id(x))\n",
    "list1=[100,2,3,4]\n",
    "print(\"list memory\",id(list1))\n",
    "func(list1)\n",
    "print(\"value of list\",list1)"
   ]
  },
  {
   "cell_type": "code",
   "execution_count": null,
   "id": "8baa560b-6513-4100-8328-e6217b0ca48b",
   "metadata": {},
   "outputs": [],
   "source": [
    "# create a function and find out the lcm of two number\n",
    "# create a function and find out prime number.\n",
    "\n",
    "''' create a function takes a int value as parameter\n",
    "    and print the following pattern\n",
    "    * * * * *\n",
    "     * * * *\n",
    "      * * *\n",
    "       * *\n",
    "        *\n",
    "'''"
   ]
  }
 ],
 "metadata": {
  "kernelspec": {
   "display_name": "Python 3 (ipykernel)",
   "language": "python",
   "name": "python3"
  },
  "language_info": {
   "codemirror_mode": {
    "name": "ipython",
    "version": 3
   },
   "file_extension": ".py",
   "mimetype": "text/x-python",
   "name": "python",
   "nbconvert_exporter": "python",
   "pygments_lexer": "ipython3",
   "version": "3.10.11"
  }
 },
 "nbformat": 4,
 "nbformat_minor": 5
}
