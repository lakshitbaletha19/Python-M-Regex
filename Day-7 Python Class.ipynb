{
 "cells": [
  {
   "cell_type": "code",
   "execution_count": 2,
   "id": "2d56170c-aaf7-4c74-9422-000c67fcda69",
   "metadata": {},
   "outputs": [
    {
     "name": "stdout",
     "output_type": "stream",
     "text": [
      "1\n",
      "2\n",
      "4\n"
     ]
    }
   ],
   "source": [
    "# continue\n",
    "for i in range(1,5):\n",
    "    if(i==3):\n",
    "        continue\n",
    "        print(\"hello\")\n",
    "    print(i)"
   ]
  },
  {
   "cell_type": "code",
   "execution_count": 11,
   "id": "9a8ff570-60a2-4fda-9326-6b0a1db8eede",
   "metadata": {},
   "outputs": [
    {
     "name": "stdin",
     "output_type": "stream",
     "text": [
      "ente the number 77\n"
     ]
    },
    {
     "name": "stdout",
     "output_type": "stream",
     "text": [
      "prime\n",
      "prime\n",
      "prime\n",
      "prime\n",
      "prime\n",
      "not prime\n"
     ]
    }
   ],
   "source": [
    "# prinme number\n",
    "\n",
    "num=int(input(\"ente the number\"))\n",
    "for i in range(2,num):\n",
    "    if(num%i==0):\n",
    "        print(\"not prime\")\n",
    "        break\n",
    "    else:\n",
    "        print(\"prime\")\n",
    "\n"
   ]
  },
  {
   "cell_type": "code",
   "execution_count": 12,
   "id": "4decfad0-6bdb-49a8-8f4a-73430a69063a",
   "metadata": {},
   "outputs": [],
   "source": [
    "# list\n",
    "# it is a collection multiple elements of data types\n",
    "# mutable\n",
    "# elements can be mutable or immutable\n",
    "# []\n",
    "# update, delete, insert, and access based on index position\n",
    "# syntex\n",
    "# mylist=[]\n"
   ]
  },
  {
   "cell_type": "code",
   "execution_count": 24,
   "id": "f6d57c01-b17f-47e5-b486-072eba3fffc8",
   "metadata": {},
   "outputs": [
    {
     "data": {
      "text/plain": [
       "14"
      ]
     },
     "execution_count": 24,
     "metadata": {},
     "output_type": "execute_result"
    }
   ],
   "source": [
    "mylist=[10,11,12,13,14]\n",
    "type(mylist)\n",
    "mylist[-1]"
   ]
  },
  {
   "cell_type": "code",
   "execution_count": 23,
   "id": "f0b02692-0316-4f7f-8cf3-aa31ed361b94",
   "metadata": {},
   "outputs": [
    {
     "data": {
      "text/plain": [
       "[10, 11, 12, 13, 40]"
      ]
     },
     "execution_count": 23,
     "metadata": {},
     "output_type": "execute_result"
    }
   ],
   "source": [
    "mylist=[10,11,12,13,14]\n",
    "mylist[4]=40\n",
    "mylist"
   ]
  },
  {
   "cell_type": "code",
   "execution_count": 25,
   "id": "12db67ca-c2c5-43ef-9641-d99fdd174d6d",
   "metadata": {},
   "outputs": [],
   "source": [
    "# list functions\n",
    "# mylist.append(\"lakshit\")--------(addition of element in list)--------(it access one element at a time)\n",
    "# mylist.extend(\"yash\")-----------(addition of two or more element)-----( )\n",
    "# mylist.extend([\"yash\"])----------()------------------------------------()\n",
    "\n",
    "\n",
    "# mylist.pop()-------- it delete last element at a time\n",
    "# mylist.pop(2)--------- it delete only 2 index data\n",
    "# mylist.remove(element name)--------------it delete by list data\n",
    "# mylist.del()\n",
    "\n",
    "# help()------------------it help to find their"
   ]
  },
  {
   "cell_type": "code",
   "execution_count": 5,
   "id": "7e1a9388-99f9-47e0-91f4-527c1277a050",
   "metadata": {},
   "outputs": [
    {
     "name": "stdout",
     "output_type": "stream",
     "text": [
      "22\n",
      "44\n"
     ]
    },
    {
     "data": {
      "text/plain": [
       "[1, 2, 3, 4, 22, 44]"
      ]
     },
     "execution_count": 5,
     "metadata": {},
     "output_type": "execute_result"
    }
   ],
   "source": [
    "mylist=[11,22,'hello',44,'yash','ayush']\n",
    "newlist=[1,2,3,4]\n",
    "for i in mylist:\n",
    "    if(type(i)==int and i%2==0):\n",
    "        print(i)\n",
    "        newlist.append(i)\n",
    "newlist"
   ]
  },
  {
   "cell_type": "code",
   "execution_count": 10,
   "id": "1743a8c1-2b3b-4e06-bcd0-f85647b76bc6",
   "metadata": {},
   "outputs": [
    {
     "name": "stdin",
     "output_type": "stream",
     "text": [
      "enter the number 6\n"
     ]
    },
    {
     "name": "stdout",
     "output_type": "stream",
     "text": [
      "2\n",
      "3\n"
     ]
    },
    {
     "data": {
      "text/plain": [
       "[45, 67, 87, 'devesh', 2, 3]"
      ]
     },
     "execution_count": 10,
     "metadata": {},
     "output_type": "execute_result"
    }
   ],
   "source": [
    "num=int(input(\"enter the number\"))\n",
    "mylist=[45,67,87,\"devesh\"]\n",
    "for i in range(2,num):\n",
    "    if(num%i==0):\n",
    "        print(i)\n",
    "        mylist.append(i)\n",
    "mylist"
   ]
  }
 ],
 "metadata": {
  "kernelspec": {
   "display_name": "Python 3 (ipykernel)",
   "language": "python",
   "name": "python3"
  },
  "language_info": {
   "codemirror_mode": {
    "name": "ipython",
    "version": 3
   },
   "file_extension": ".py",
   "mimetype": "text/x-python",
   "name": "python",
   "nbconvert_exporter": "python",
   "pygments_lexer": "ipython3",
   "version": "3.10.11"
  }
 },
 "nbformat": 4,
 "nbformat_minor": 5
}
