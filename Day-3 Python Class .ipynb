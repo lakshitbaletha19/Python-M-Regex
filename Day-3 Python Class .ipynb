{
 "cells": [
  {
   "cell_type": "code",
   "execution_count": 2,
   "id": "c3f02ee6-586c-4dda-b2d0-e23f30bbaf2e",
   "metadata": {},
   "outputs": [
    {
     "data": {
      "text/plain": [
       "12"
      ]
     },
     "execution_count": 2,
     "metadata": {},
     "output_type": "execute_result"
    }
   ],
   "source": [
    "#bitwise operator\n",
    "49>>2"
   ]
  },
  {
   "cell_type": "code",
   "execution_count": 4,
   "id": "dc5d1756-dc3b-40d8-b745-749e1cbcd58c",
   "metadata": {},
   "outputs": [
    {
     "data": {
      "text/plain": [
       "12"
      ]
     },
     "execution_count": 4,
     "metadata": {},
     "output_type": "execute_result"
    }
   ],
   "source": [
    "# formula for bit wise operator\n",
    "49//2**2"
   ]
  },
  {
   "cell_type": "code",
   "execution_count": 5,
   "id": "1446a326-8e38-4a3b-b56a-fdf9f366a82f",
   "metadata": {},
   "outputs": [],
   "source": [
    "#identity operator\n",
    "x=100\n",
    "y=100"
   ]
  },
  {
   "cell_type": "code",
   "execution_count": 10,
   "id": "a141718b-248c-49fd-9419-e7234917b6c2",
   "metadata": {},
   "outputs": [
    {
     "data": {
      "text/plain": [
       "True"
      ]
     },
     "execution_count": 10,
     "metadata": {},
     "output_type": "execute_result"
    }
   ],
   "source": [
    "x is y"
   ]
  },
  {
   "cell_type": "code",
   "execution_count": 15,
   "id": "a86b48b9-ed13-4aa2-b9ff-1f6fc579dd60",
   "metadata": {},
   "outputs": [
    {
     "data": {
      "text/plain": [
       "'A'"
      ]
     },
     "execution_count": 15,
     "metadata": {},
     "output_type": "execute_result"
    }
   ],
   "source": [
    "# slicing  and string slicing\n",
    "status=\"RAJASTHAN\"\n",
    "status[1]\n"
   ]
  },
  {
   "cell_type": "code",
   "execution_count": 16,
   "id": "0a3d3042-2ddd-4366-a7ae-6057fbcf019c",
   "metadata": {},
   "outputs": [
    {
     "data": {
      "text/plain": [
       "'RAJAS'"
      ]
     },
     "execution_count": 16,
     "metadata": {},
     "output_type": "execute_result"
    }
   ],
   "source": [
    "# slicing [start : stop :(step 1 by default) ]\n",
    "status[0:5]"
   ]
  },
  {
   "cell_type": "code",
   "execution_count": 17,
   "id": "84f6babf-e79a-4ae6-84b2-4746413578ac",
   "metadata": {},
   "outputs": [
    {
     "data": {
      "text/plain": [
       "'RAJASTHAN'"
      ]
     },
     "execution_count": 17,
     "metadata": {},
     "output_type": "execute_result"
    }
   ],
   "source": [
    "status[0:100]"
   ]
  },
  {
   "cell_type": "code",
   "execution_count": 18,
   "id": "ed40edc5-5323-439f-ae0b-a78178cd94d1",
   "metadata": {},
   "outputs": [
    {
     "data": {
      "text/plain": [
       "'RJ'"
      ]
     },
     "execution_count": 18,
     "metadata": {},
     "output_type": "execute_result"
    }
   ],
   "source": [
    "status[0:4:2]"
   ]
  },
  {
   "cell_type": "code",
   "execution_count": 21,
   "id": "dbd62265-6854-40c2-82dd-00b1f53e728c",
   "metadata": {},
   "outputs": [
    {
     "data": {
      "text/plain": [
       "'JT'"
      ]
     },
     "execution_count": 21,
     "metadata": {},
     "output_type": "execute_result"
    }
   ],
   "source": [
    "status[2:8:3]"
   ]
  },
  {
   "cell_type": "code",
   "execution_count": 24,
   "id": "c16c780e-7ea8-4228-87da-e60139fce58f",
   "metadata": {},
   "outputs": [
    {
     "data": {
      "text/plain": [
       "''"
      ]
     },
     "execution_count": 24,
     "metadata": {},
     "output_type": "execute_result"
    }
   ],
   "source": [
    "# empty string\n",
    "status[0:4:-1]"
   ]
  },
  {
   "cell_type": "code",
   "execution_count": 26,
   "id": "3b985059-52f1-4a07-998d-1d5c0120f31e",
   "metadata": {},
   "outputs": [
    {
     "data": {
      "text/plain": [
       "''"
      ]
     },
     "execution_count": 26,
     "metadata": {},
     "output_type": "execute_result"
    }
   ],
   "source": [
    "status[-1:-4]"
   ]
  },
  {
   "cell_type": "code",
   "execution_count": 28,
   "id": "f3097495-ce73-4f22-8a03-14ff5b0a63d7",
   "metadata": {},
   "outputs": [
    {
     "data": {
      "text/plain": [
       "''"
      ]
     },
     "execution_count": 28,
     "metadata": {},
     "output_type": "execute_result"
    }
   ],
   "source": [
    "status[-1:-5:2]"
   ]
  },
  {
   "cell_type": "code",
   "execution_count": 30,
   "id": "7488f4c3-578d-437c-9104-003666c59514",
   "metadata": {},
   "outputs": [
    {
     "data": {
      "text/plain": [
       "'RAJASTHAN'"
      ]
     },
     "execution_count": 30,
     "metadata": {},
     "output_type": "execute_result"
    }
   ],
   "source": [
    "status[0:]"
   ]
  },
  {
   "cell_type": "code",
   "execution_count": 32,
   "id": "bcbffb43-0b3d-4990-8ee0-b98c396c4980",
   "metadata": {},
   "outputs": [
    {
     "data": {
      "text/plain": [
       "'RSN'"
      ]
     },
     "execution_count": 32,
     "metadata": {},
     "output_type": "execute_result"
    }
   ],
   "source": [
    "status[0::4]"
   ]
  },
  {
   "cell_type": "code",
   "execution_count": 35,
   "id": "fc946f81-4115-4500-913f-895e896faa7b",
   "metadata": {},
   "outputs": [
    {
     "data": {
      "text/plain": [
       "'R'"
      ]
     },
     "execution_count": 35,
     "metadata": {},
     "output_type": "execute_result"
    }
   ],
   "source": [
    "status[0::-1]"
   ]
  },
  {
   "cell_type": "code",
   "execution_count": 37,
   "id": "60c52e1d-1974-465e-b8b2-f2062526cbc7",
   "metadata": {},
   "outputs": [
    {
     "name": "stdout",
     "output_type": "stream",
     "text": [
      "condition is true\n"
     ]
    }
   ],
   "source": [
    "# if else statement\n",
    "\n",
    "x=35\n",
    "if(x==35):\n",
    "    print(\"condition is true\")\n",
    "elif(x==40):\n",
    "    print(\"\n",
    "else:\n",
    "    print(\"not\")\n",
    "    "
   ]
  },
  {
   "cell_type": "code",
   "execution_count": 42,
   "id": "6c642790-a477-4d03-8c90-f93b31760098",
   "metadata": {},
   "outputs": [
    {
     "name": "stdout",
     "output_type": "stream",
     "text": [
      "a is smaller than b and c\n"
     ]
    }
   ],
   "source": [
    "a=1\n",
    "b=2\n",
    "c=3\n",
    "if(c>a and b>a):\n",
    "    print(\"a is smaller than b and c\")\n",
    "elif(a>b and c>b):\n",
    "    print(\"b i smaller\")\n",
    "elif(a>c and b>c):\n",
    "    print(\"c is smaller\")\n",
    "    "
   ]
  },
  {
   "cell_type": "code",
   "execution_count": 43,
   "id": "04a95db2-dade-4766-afa0-cebe2306d3f7",
   "metadata": {},
   "outputs": [
    {
     "name": "stdin",
     "output_type": "stream",
     "text": [
      "enter the number 3\n"
     ]
    },
    {
     "name": "stdout",
     "output_type": "stream",
     "text": [
      "<class 'int'> 3\n",
      "odd\n"
     ]
    }
   ],
   "source": [
    "num = int(input(\"enter the number\") )\n",
    "print(type(num),num)\n",
    "if(num%2==0):\n",
    "    print(\"even number\")\n",
    "elif(num%2!=0):\n",
    "    print(\"odd\")"
   ]
  },
  {
   "cell_type": "code",
   "execution_count": null,
   "id": "903ff54e-bb89-4092-8883-eabc3a8c445d",
   "metadata": {},
   "outputs": [],
   "source": []
  }
 ],
 "metadata": {
  "kernelspec": {
   "display_name": "Python 3 (ipykernel)",
   "language": "python",
   "name": "python3"
  },
  "language_info": {
   "codemirror_mode": {
    "name": "ipython",
    "version": 3
   },
   "file_extension": ".py",
   "mimetype": "text/x-python",
   "name": "python",
   "nbconvert_exporter": "python",
   "pygments_lexer": "ipython3",
   "version": "3.10.11"
  }
 },
 "nbformat": 4,
 "nbformat_minor": 5
}
