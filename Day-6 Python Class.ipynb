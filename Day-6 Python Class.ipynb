{
 "cells": [
  {
   "cell_type": "code",
   "execution_count": 19,
   "id": "2fb2a472-5722-4dcf-a473-c32eca5a68c3",
   "metadata": {},
   "outputs": [
    {
     "name": "stdout",
     "output_type": "stream",
     "text": [
      "\n",
      "1 \n",
      "2 4 \n",
      "8 16 32 \n",
      "64 128 256 512 \n"
     ]
    }
   ],
   "source": [
    "# practice of pattern\n",
    "num=0\n",
    "for i in range(0,5):\n",
    "    for j in range(0,i):\n",
    "        pro=2**num\n",
    "        num+=1\n",
    "        print(pro,end=\" \")\n",
    "    print(\"\")"
   ]
  },
  {
   "cell_type": "code",
   "execution_count": 32,
   "id": "5132ffeb-2035-4b7a-8be2-a70b72a88e25",
   "metadata": {},
   "outputs": [
    {
     "name": "stdout",
     "output_type": "stream",
     "text": [
      " \n",
      "18  \n",
      "18 18  \n",
      "18 18 18  \n"
     ]
    }
   ],
   "source": [
    "num=17\n",
    "for i in range(0,4):\n",
    "    for j in range(0,i):\n",
    "        if(num%2!=0):\n",
    "            num+=1\n",
    "        print(num,end=\" \")\n",
    "    print(\" \")"
   ]
  },
  {
   "cell_type": "code",
   "execution_count": 49,
   "id": "2c6171f0-c7fa-4fb7-8c47-c2af4655a2c2",
   "metadata": {},
   "outputs": [
    {
     "name": "stdout",
     "output_type": "stream",
     "text": [
      "* * * * \n",
      "Z * * * \n",
      "Z Z * * \n",
      "Z Z Z * \n"
     ]
    }
   ],
   "source": [
    "for i in range(1,5):\n",
    "    for j in range(1,i):\n",
    "        print(\"Z\",end=\" \")\n",
    "    for k in range(i,5):\n",
    "        print(\"*\",end=\" \")\n",
    "        \n",
    "        \n",
    "    print(\"\")\n"
   ]
  },
  {
   "cell_type": "code",
   "execution_count": 53,
   "id": "c1b26ed9-7cac-438a-b01c-2a056c1fe6f4",
   "metadata": {},
   "outputs": [
    {
     "name": "stdout",
     "output_type": "stream",
     "text": [
      "1 2 3 4 \n",
      "  5 6 7 \n",
      "    8 9 \n",
      "      10 \n"
     ]
    }
   ],
   "source": [
    "num=0\n",
    "for i in range(0,4):\n",
    "    for j in range(0,i):\n",
    "        print(\" \",end=\" \")\n",
    "    for k in range(i,4):\n",
    "        num+=1\n",
    "        print(num,end=\" \")\n",
    "    print(\"\")\n",
    "    "
   ]
  },
  {
   "cell_type": "code",
   "execution_count": 59,
   "id": "937c608d-07ab-45ce-b752-9487f2f4db92",
   "metadata": {},
   "outputs": [
    {
     "name": "stdout",
     "output_type": "stream",
     "text": [
      "1 2 3 4 \n",
      "  1 2 3 \n",
      "    1 2 \n",
      "      1 \n"
     ]
    }
   ],
   "source": [
    "\n",
    "for i in range(0,4):\n",
    "    num=0\n",
    "    for j in range(0,i):\n",
    "        print(\" \",end=\" \")\n",
    "    for k in range(4,i,-1):\n",
    "        num+=1\n",
    "        print(num,end=\" \")\n",
    "    print(\"\")\n",
    "        "
   ]
  },
  {
   "cell_type": "code",
   "execution_count": 65,
   "id": "4065c41b-6a90-480a-b9bd-00c050603e87",
   "metadata": {},
   "outputs": [
    {
     "name": "stdout",
     "output_type": "stream",
     "text": [
      "# # # # \n",
      "  $ $ $ \n",
      "    # # \n",
      "      $ \n"
     ]
    }
   ],
   "source": [
    "count=1\n",
    "for i in range(0,4):\n",
    "    count+=1\n",
    "    for j in range(0,i):\n",
    "        print(\" \",end=\" \")\n",
    "    for k in range(i,4):\n",
    "        if(count%2==0):\n",
    "            print(\"#\",end=\" \")\n",
    "        else:\n",
    "            print(\"$\",end=\" \")\n",
    "    print(\"\")"
   ]
  },
  {
   "cell_type": "code",
   "execution_count": 83,
   "id": "767a0f6e-6f7a-47cb-94c1-6f127ba913c3",
   "metadata": {},
   "outputs": [
    {
     "name": "stdout",
     "output_type": "stream",
     "text": [
      "*          \n",
      "* *        \n",
      "*   *      \n",
      "*     *    \n",
      "* * * * *  \n"
     ]
    }
   ],
   "source": [
    "for i in range(0,5):\n",
    "    for j in range(0,5):\n",
    "        if(i==4 or j==0 or i==j):\n",
    "            print(\"*\",end=\" \")\n",
    "        else:\n",
    "            print(\" \",end=\" \")\n",
    "    print(\" \")"
   ]
  }
 ],
 "metadata": {
  "kernelspec": {
   "display_name": "Python 3 (ipykernel)",
   "language": "python",
   "name": "python3"
  },
  "language_info": {
   "codemirror_mode": {
    "name": "ipython",
    "version": 3
   },
   "file_extension": ".py",
   "mimetype": "text/x-python",
   "name": "python",
   "nbconvert_exporter": "python",
   "pygments_lexer": "ipython3",
   "version": "3.10.11"
  }
 },
 "nbformat": 4,
 "nbformat_minor": 5
}
